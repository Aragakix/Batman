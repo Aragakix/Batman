{
 "cells": [
  {
   "cell_type": "code",
   "execution_count": null,
   "metadata": {},
   "outputs": [],
   "source": [
    "import tabula\n",
    "lista_tabelas = tabula.read_pdf(f\"D:\\\\RepositorioProjetosPython\\\\projeto Receita Federal\\\\Imagens\\\\01831385000100.pdf\",pages=\"1,2,3,4,5,6\",encoding=\"latin\")\n",
    "print(len(lista_tabelas))"
   ]
  },
  {
   "cell_type": "code",
   "execution_count": null,
   "metadata": {},
   "outputs": [],
   "source": [
    "i=0\n",
    "for tabela in lista_tabelas:\n",
    "    # i = i+1\n",
    "    # resultado_tabela = lista_tabelas.append(lista_tabelas[i])\n",
    "    display(tabela)"
   ]
  },
  {
   "cell_type": "code",
   "execution_count": null,
   "metadata": {},
   "outputs": [],
   "source": [
    "display(lista_tabelas[1])"
   ]
  }
 ],
 "metadata": {
  "kernelspec": {
   "display_name": "Python 3",
   "language": "python",
   "name": "python3"
  },
  "language_info": {
   "codemirror_mode": {
    "name": "ipython",
    "version": 3
   },
   "file_extension": ".py",
   "mimetype": "text/x-python",
   "name": "python",
   "nbconvert_exporter": "python",
   "pygments_lexer": "ipython3",
   "version": "3.7.0"
  }
 },
 "nbformat": 4,
 "nbformat_minor": 2
}
